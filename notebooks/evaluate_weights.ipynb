{
 "cells": [
  {
   "cell_type": "code",
   "execution_count": 1,
   "metadata": {},
   "outputs": [],
   "source": [
    "import os\n",
    "import sys\n",
    "\n",
    "sys.path.append(os.path.abspath(os.path.join(os.getcwd(), '..')))\n",
    "from src.dope_node import DopeNode\n",
    "from src.auxiliar import parse_arguments, load_config_files, prepare_output_folder, load_images_and_weights, process_images\n",
    "from src.evaluation import loadimages, select_image_data\n"
   ]
  },
  {
   "cell_type": "code",
   "execution_count": null,
   "metadata": {},
   "outputs": [],
   "source": [
    "imagenes = loadimages(r\"C:\\github\\synthetic-data-generation\\output\\test_dataset\")"
   ]
  },
  {
   "cell_type": "code",
   "execution_count": null,
   "metadata": {},
   "outputs": [],
   "source": [
    "options = parse_arguments()\n",
    "\n",
    "# Load configurations and prepare the output folder\n",
    "config, camera_info = load_config_files(options.config, options.camera)\n",
    "prepare_output_folder(options.outf)\n",
    "print(options.outf)\n",
    "\n",
    "# Load images and weights\n",
    "try:\n",
    "    imgs, imgsname, weights = load_images_and_weights(options.data, options.exts, options.weights)\n",
    "except FileNotFoundError as e:\n",
    "    print(e)\n",
    "\n",
    "print(f\"Found {len(weights)} weights and {len(imgs)} images for processing.\")\n",
    "\n",
    "# Run inference for each weight\n",
    "for w_i, weight in enumerate(weights):\n",
    "    print(f\"Using weight {w_i + 1} of {len(weights)}: {weight}\")\n",
    "    dope_node = DopeNode(config, weight, options.parallel, options.object)\n",
    "    process_images(dope_node, imgs, imgsname, camera_info, options.outf, weight, options.debug)\n",
    "    print(\"------\")"
   ]
  }
 ],
 "metadata": {
  "kernelspec": {
   "display_name": "Python (dope_venv)",
   "language": "python",
   "name": "dope_venv"
  },
  "language_info": {
   "codemirror_mode": {
    "name": "ipython",
    "version": 3
   },
   "file_extension": ".py",
   "mimetype": "text/x-python",
   "name": "python",
   "nbconvert_exporter": "python",
   "pygments_lexer": "ipython3",
   "version": "3.9.13"
  }
 },
 "nbformat": 4,
 "nbformat_minor": 2
}
