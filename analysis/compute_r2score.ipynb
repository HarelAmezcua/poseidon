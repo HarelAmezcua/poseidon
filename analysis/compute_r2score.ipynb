{
 "cells": [
  {
   "cell_type": "code",
   "execution_count": null,
   "id": "8e5e275c",
   "metadata": {},
   "outputs": [],
   "source": [
    "import os\n",
    "import json\n",
    "\n",
    "from sklearn.metrics import r2_score"
   ]
  },
  {
   "cell_type": "code",
   "execution_count": 3,
   "id": "77b1fad4",
   "metadata": {},
   "outputs": [],
   "source": [
    "def match_json_files(folder1, folder2):\n",
    "    matched_files = []\n",
    "\n",
    "    if not os.path.isdir(folder1) or not os.path.isdir(folder2):\n",
    "        raise ValueError(\"Both inputs must be valid directories.\")\n",
    "\n",
    "    folder1_files = {f for f in os.listdir(folder1) if f.endswith(\".json\")}\n",
    "    folder2_files = {f for f in os.listdir(folder2) if f.endswith(\".json\")}\n",
    "\n",
    "    common_files = folder1_files.intersection(folder2_files)\n",
    "\n",
    "    for file in common_files:\n",
    "        path1 = os.path.join(folder1, file)\n",
    "        path2 = os.path.join(folder2, file)\n",
    "        matched_files.append((path1, path2))\n",
    "\n",
    "    return matched_files\n",
    "\n",
    "def load_validation_data(file_path, translations : list, rotations: list):\n",
    "    with open(file_path, 'r') as f:\n",
    "        data = json.load(f)\n",
    "\n",
    "    object_in_image = False\n",
    "\n",
    "    for i_line in range(len(data['objects'])):\n",
    "        info = data['objects'][i_line]\n",
    "\n",
    "        if \"Ketchup\".lower() not in info['class'].lower():\n",
    "            continue                     \n",
    "\n",
    "        # Parse translations\n",
    "        location = info.get('location', [0, 0, 0])\n",
    "        translations.extend(location)\n",
    "\n",
    "        # Parse quaternion\n",
    "        rot = info.get(\"quaternion_xyzw\", [0, 0, 0, 1])\n",
    "        rotations.extend(rot)\n",
    "        object_in_image = True\n",
    "    \n",
    "    if not object_in_image:\n",
    "        translations.extend([0,0,0])\n",
    "        rotations.extend([0,0,0,1])     "
   ]
  },
  {
   "cell_type": "code",
   "execution_count": 4,
   "id": "19bde01b",
   "metadata": {},
   "outputs": [
    {
     "name": "stdout",
     "output_type": "stream",
     "text": [
      "Validation Translations: 63\n",
      "Validation Rotations: 84\n",
      "Prediction Translations: 63\n",
      "Prediction Rotations: 84\n",
      "Validation Translations: [-0.03060629777610302, 0.26856061816215515, 1.6560226678848267, -0.099363312125206, 0.006707297638058662, 0.5613508820533752, 0.2388124316930771, 0.09952881187200546, 1.8451529741287231, 0.4185505211353302, 0.17979469895362854, 1.9451348781585693, 0.13804328441619873, 0.2839696407318115, 1.7495462894439697, 0.08595508337020874, 0.21126225590705872, 1.0031615495681763, 0.3615546226501465, 0.0398947149515152, 1.9613964557647705, -0.09741877019405365, -0.09579642862081528, 0.48916372656822205, 0.41922274231910706, 0.15390260517597198, 1.9022607803344727, 0.1892232894897461, 0.15322816371917725, 1.8001601696014404, -0.14410650730133057, 0.12787561118602753, 1.433038592338562, 0.043604526668787, 0.23469677567481995, 1.705459713935852, -0.28109052777290344, 0.2908279001712799, 1.6075611114501953, 0, 0, 0, 0.12310633808374405, 0.1988159418106079, 1.752760887145996, 0.29005536437034607, 0.045599211007356644, 1.8884477615356445, 0.320855975151062, -0.007303250953555107, 1.9541735649108887, 0.39508888125419617, 0.03898092731833458, 1.9541226625442505, 0.06977595388889313, 0.0055173118598759174, 0.6518203020095825, 0.11371586471796036, 0.14208076894283295, 0.799852728843689, 0.10910351574420929, 0.051370102912187576, 0.5766260623931885]\n",
      "Validation Rotations: [-0.256533145904541, -0.25370484590530396, 0.25342732667922974, -0.24382390081882477, -0.253569096326828, -0.25149819254875183, 0.251967191696167, -0.2569003105163574, -0.25251638889312744, -0.2504817545413971, 0.24837297201156616, -0.25924092531204224, 0.2513670027256012, -0.2536930739879608, 0.24770870804786682, 0.25838717818260193, -0.25899916887283325, -0.24987317621707916, 0.24716253578662872, -0.2470155507326126, 0.24850894510746002, -0.24479438364505768, 0.2550927996635437, 0.25714200735092163, -0.2486460655927658, 0.24847431480884552, 0.2588510811328888, 0.24650496244430542, 0.2588832974433899, 0.24969027936458588, 0.24610985815525055, -0.2533424496650696, -0.2580242455005646, -0.2497253119945526, 0.2525840103626251, -0.24425172805786133, -0.2590082585811615, 0.2535441219806671, 0.24697065353393555, 0.24832822382450104, 0.25889354944229126, -0.24572479724884033, 0.2482587695121765, 0.25084447860717773, -0.25727587938308716, 0.25553855299949646, 0.24758073687553406, 0.24582210183143616, 0.25674673914909363, 0.25647714734077454, 0.2481701672077179, -0.24979709088802338, 0, 0, 0, 1, 0.2531556785106659, -0.2583155930042267, 0.25182220339775085, 0.24883070588111877, -0.25589460134506226, -0.2526572346687317, 0.25329720973968506, -0.24280892312526703, 0.2601011097431183, 0.24896728992462158, 0.24973523616790771, -0.24998854100704193, -0.25178688764572144, 0.2519923448562622, 0.2552691102027893, 0.255246639251709, 0.2591981291770935, -0.24585294723510742, 0.24921971559524536, 0.2521374225616455, 0.25773170590400696, -0.24890479445457458, 0.2462465465068817, 0.25543442368507385, -0.258729487657547, -0.2458658367395401, 0.25209397077560425, -0.2522395849227905]\n",
      "Prediction Translations: [-0.0311858548362108, 0.2778678616003625, 1.7134757763984205, -0.1050158356164465, 0.007608879842750192, 0.5842970379714522, 0.25606866273239326, 0.10869627367231577, 1.9763416343335547, 0.41188476874805824, 0.1772051888217011, 1.9078146751214085, 0.13835196460968002, 0.2822624208697636, 1.7335825254188035, 0.0883223836098112, 0.21226665476741347, 1.0058228730058625, 0.3780211373834587, 0.04443782712399533, 2.0278024247880126, 0.0, 0.0, 0.0, 0.42166417318582794, 0.1540959577915372, 1.906603173696152, 0.1939459986020649, 0.15737097203215544, 1.8303434810495092, -0.14458498442737933, 0.1285523053448467, 1.4507578077920196, 0.044356308402248724, 0.23302489044703717, 1.689978422853397, -0.2881070047071816, 0.3000893315363171, 1.6547372769902273, 0.0, 0.0, 0.0, 0.12846055188626118, 0.20443572306612964, 1.8019856296424246, 0.27353568299847525, 0.04119311778219474, 1.7796354973475224, 0.3351850441717402, -0.00807852614817271, 2.037185120845066, 0.0, 0.0, 0.0, 0.07139104925114417, 0.005248446329623176, 0.6693176420864363, 0.0, 0.0, 0.0, 0.1127547512468873, 0.05265121035825411, 0.5936937634804813]\n",
      "Prediction Rotations: [0.4203062536873106, 0.7306535877379688, -0.014212318271377667, -0.5378531378046665, 0.7921475941603751, 0.5633712546975097, -0.11566745783748353, 0.2042940470104247, 0.8774672193743143, 0.357092293991089, 0.06523711126183306, 0.3134971958565211, 0.8042860455244236, -0.4645004431551907, -0.2605649860434834, 0.2635700729056234, 0.7361751792612982, 0.2231459587573112, 0.13577545355409498, -0.6243532755916763, 0.6470486036280013, -0.3533770432689012, 0.522080896757797, 0.4288173353237451, -0.2838211653661356, -0.5644571948019979, 0.7051182419543559, 0.32193459924286866, 0.7071067811865475, 0.0, 0.0, 0.7071067811865475, -0.49268120784974595, -0.5098383472126556, 0.1551250389285159, 0.6879435365207012, -0.48354122932408056, 0.2616559519851109, 0.44641162507582777, 0.7060033309635875, 0.8715187739545668, -0.052866921694643416, 0.15424043814786417, -0.4624608118264897, 0.5738955434066806, -0.4094741181201429, -0.4924727983185623, -0.510338509975454, -0.2975970008934023, -0.33175183408250364, -0.61827866126302, 0.6473856985360081, 0.7071067811865475, 0.0, 0.0, 0.7071067811865475, -0.5216289434628629, 0.7945718441905353, 0.260325874260475, 0.16967400788567613, -0.274564171299887, -0.6749837050212999, 0.0405869131724607, 0.6836404144528438, -0.47634370924726666, 0.014645730794177155, -0.37488853355567064, 0.7951985667985946, 0.7071067811865475, 0.0, 0.0, 0.7071067811865475, 0.9094671864164422, -0.15829753028750307, 0.15337994161048413, -0.3525420857829625, 0.7071067811865475, 0.0, 0.0, 0.7071067811865475, 0.8652422216714245, 0.3158248649825353, -0.23918076343364017, -0.30725089893955054]\n"
     ]
    }
   ],
   "source": [
    "from scipy.spatial.transform import Rotation as R\n",
    "import numpy as np\n",
    "\n",
    "validation_folder = r\"C:\\github\\POSEIDON\\dataset\\test_frame_images\"\n",
    "predictions_folder = r\"C:\\github\\POSEIDON\\output\\net_batchweights_ketchup_500\"\n",
    "\n",
    "matched_files = match_json_files(validation_folder, predictions_folder)\n",
    "\n",
    "val_translations = []\n",
    "val_rotations = []\n",
    "\n",
    "pred_translations = []\n",
    "pred_rotations = []\n",
    "\n",
    "for i, (validation_file, prediction_file) in enumerate(matched_files):    \n",
    "    load_validation_data(validation_file, val_translations, val_rotations)\n",
    "    load_validation_data(prediction_file, pred_translations, pred_rotations)\n",
    "\n",
    "pred_translations = [x / 100 for x in pred_translations]\n",
    "\n",
    "print(\"Validation Translations:\", len(val_translations))\n",
    "print(\"Validation Rotations:\", len(val_rotations))\n",
    "print(\"Prediction Translations:\", len(pred_translations))\n",
    "print(\"Prediction Rotations:\", len(pred_rotations))\n",
    "\n",
    "\n",
    "transformation_matrix = np.array([[1, 0, 0],\n",
    "                                   [0, 0, -1],\n",
    "                                   [0, 1, 0]])\n",
    "\n",
    "transformed_rotations = []\n",
    "\n",
    "for i in range(0, len(pred_rotations), 4):\n",
    "    quat = pred_rotations[i:i+4]\n",
    "    r = R.from_quat(quat)\n",
    "    rotation_matrix = r.as_matrix()\n",
    "    transformed_matrix = transformation_matrix @ rotation_matrix  \n",
    "    transformed_quat = R.from_matrix(transformed_matrix).as_quat()\n",
    "    transformed_rotations.extend(transformed_quat)\n",
    "\n",
    "pred_rotations = transformed_rotations\n",
    "\n",
    "print(\"Validation Translations:\", val_translations)\n",
    "print(\"Validation Rotations:\", val_rotations)\n",
    "print(\"Prediction Translations:\", pred_translations)\n",
    "print(\"Prediction Rotations:\", pred_rotations)"
   ]
  },
  {
   "cell_type": "code",
   "execution_count": 5,
   "id": "48c2dd70",
   "metadata": {},
   "outputs": [
    {
     "name": "stdout",
     "output_type": "stream",
     "text": [
      "R² score for translations: 0.8420014640386587\n",
      "R² score for rotations: -3.522203330058897\n"
     ]
    }
   ],
   "source": [
    "# Calculate R² score\n",
    "r2_translation = r2_score(val_translations, pred_translations)\n",
    "r2_rotation = r2_score(val_rotations, pred_rotations)\n",
    "print(\"R² score for translations:\", r2_translation)\n",
    "print(\"R² score for rotations:\", r2_rotation)"
   ]
  }
 ],
 "metadata": {
  "kernelspec": {
   "display_name": "Python (dope_venv)",
   "language": "python",
   "name": "dope_venv"
  },
  "language_info": {
   "codemirror_mode": {
    "name": "ipython",
    "version": 3
   },
   "file_extension": ".py",
   "mimetype": "text/x-python",
   "name": "python",
   "nbconvert_exporter": "python",
   "pygments_lexer": "ipython3",
   "version": "3.9.13"
  }
 },
 "nbformat": 4,
 "nbformat_minor": 5
}
