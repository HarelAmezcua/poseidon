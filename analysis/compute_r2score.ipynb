{
 "cells": [
  {
   "cell_type": "code",
   "execution_count": null,
   "id": "8e5e275c",
   "metadata": {},
   "outputs": [],
   "source": [
    "import sys\n",
    "import os\n",
    "from os.path import exists\n",
    "\n",
    "import json\n",
    "\n",
    "from sklearn.metrics import r2_score"
   ]
  },
  {
   "cell_type": "code",
   "execution_count": null,
   "id": "77b1fad4",
   "metadata": {},
   "outputs": [],
   "source": [
    "def match_json_files(folder1, folder2):\n",
    "    matched_files = []\n",
    "\n",
    "    if not os.path.isdir(folder1) or not os.path.isdir(folder2):\n",
    "        raise ValueError(\"Both inputs must be valid directories.\")\n",
    "\n",
    "    folder1_files = {f for f in os.listdir(folder1) if f.endswith(\".json\")}\n",
    "    folder2_files = {f for f in os.listdir(folder2) if f.endswith(\".json\")}\n",
    "\n",
    "    common_files = folder1_files.intersection(folder2_files)\n",
    "\n",
    "    for file in common_files:\n",
    "        path1 = os.path.join(folder1, file)\n",
    "        path2 = os.path.join(folder2, file)\n",
    "        matched_files.append((path1, path2))\n",
    "\n",
    "    return matched_files\n",
    "\n",
    "def load_validation_data(file_path, translations : list, rotations: list):\n",
    "    with open(file_path, 'r') as f:\n",
    "        data = json.load(f)\n",
    "\n",
    "    object_in_image = False\n",
    "\n",
    "    for i_line in range(len(data['objects'])):\n",
    "        info = data['objects'][i_line]\n",
    "\n",
    "        if \"Ketchup\".lower() not in info['class'].lower():\n",
    "            continue                     \n",
    "\n",
    "        # Parse translations\n",
    "        location = info.get('location', [0, 0, 0])\n",
    "        translations.extend(location)\n",
    "\n",
    "        # Parse quaternion\n",
    "        rot = info.get(\"quaternion_xyzw\", [0, 0, 0, 1])\n",
    "        rotations.extend(rot)\n",
    "        object_in_image = True\n",
    "    \n",
    "    if not object_in_image:\n",
    "        translations.extend([0,0,0])\n",
    "        rotations.extend([0,0,0,1])     "
   ]
  },
  {
   "cell_type": "code",
   "execution_count": null,
   "id": "19bde01b",
   "metadata": {},
   "outputs": [],
   "source": [
    "validation_folder = r\"C:\\github\\POSEIDON\\other\\test_frame_images\"\n",
    "predictions_folder = r\"C:\\github\\POSEIDON\\output\\net_batchweights_ketchup_500\"\n",
    "\n",
    "matched_files = match_json_files(validation_folder, predictions_folder)\n",
    "\n",
    "val_translations = []\n",
    "val_rotations = []\n",
    "\n",
    "pred_translations = []\n",
    "pred_rotations = []\n",
    "\n",
    "for i, (validation_file, prediction_file) in enumerate(matched_files):\n",
    "    #print(f\"Processing file {i + 1}/{len(matched_files)}: {validation_file} vs {prediction_file}\")\n",
    "\n",
    "    load_validation_data(validation_file, val_translations, val_rotations)\n",
    "    load_validation_data(prediction_file, pred_translations, pred_rotations)\n",
    "\n",
    "pred_translations = [x / 100 for x in pred_translations]\n",
    "\n",
    "print(\"Validation Translations:\", len(val_translations))\n",
    "print(\"Validation Rotations:\", len(val_rotations))\n",
    "print(\"Prediction Translations:\", len(pred_translations))\n",
    "print(\"Prediction Rotations:\", len(pred_rotations))\n",
    "\n",
    "\n",
    "print(\"Validation Translations:\", val_translations)\n",
    "print(\"Validation Rotations:\", val_rotations)\n",
    "print(\"Prediction Translations:\", pred_translations)\n",
    "print(\"Prediction Rotations:\", pred_rotations)"
   ]
  },
  {
   "cell_type": "code",
   "execution_count": null,
   "id": "48c2dd70",
   "metadata": {},
   "outputs": [],
   "source": [
    "# Example vectors (replace these with your actual data)\n",
    "\n",
    "# Calculate R² score\n",
    "r2_translation = r2_score(val_translations, pred_translations)\n",
    "r2_rotation = r2_score(val_rotations, pred_rotations)\n",
    "print(\"R² score for translations:\", r2_translation)\n",
    "print(\"R² score for rotations:\", r2_rotation)"
   ]
  }
 ],
 "metadata": {
  "kernelspec": {
   "display_name": "Python (dope_venv)",
   "language": "python",
   "name": "dope_venv"
  },
  "language_info": {
   "codemirror_mode": {
    "name": "ipython",
    "version": 3
   },
   "file_extension": ".py",
   "mimetype": "text/x-python",
   "name": "python",
   "nbconvert_exporter": "python",
   "pygments_lexer": "ipython3",
   "version": "3.9.13"
  }
 },
 "nbformat": 4,
 "nbformat_minor": 5
}
